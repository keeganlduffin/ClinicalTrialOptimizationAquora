{
 "cells": [
  {
   "cell_type": "code",
   "execution_count": 62,
   "metadata": {},
   "outputs": [],
   "source": [
    "import numpy as np\n",
    "from use_case import ClinicalTrial"
   ]
  },
  {
   "cell_type": "markdown",
   "metadata": {},
   "source": [
    "Let's look at a simple example. Consider 6 patients, with the following covariates:\n",
    "\n",
    "+ **Patient 1**: $w_1 = 58$, $w_2= 1718$ and $w_3 = 12.2$\n",
    "+ **Patient 2**: $w_1 = 56$, $w_2= 7394.8$ and $w_3 = 10.6$\n",
    "+ **Patient 3**: $w_1 = 70$, $w_2= 516$ and $w_3 = 12$\n",
    "+ **Patient 4**: $w_1 = 55$, $w_2= 6121$ and $w_3 = 10.3$\n",
    "+ **Patient 5**: $w_1 = 38$, $w_2= 671$ and $w_3 = 10.9$\n",
    "+ **Patient 6**: $w_1 = 66$, $w_2= 944$ and $w_3 = 11$\n",
    "\n",
    "> NOTE: The cell below will be replaced with other trials when running `aqora test`"
   ]
  },
  {
   "cell_type": "code",
   "execution_count": 63,
   "metadata": {
    "tags": [
     "parameters"
    ]
   },
   "outputs": [],
   "source": [
    "input = ClinicalTrial(\n",
    "    np.array([\n",
    "        [58,1718,12.2],\n",
    "        [56,7394.8,10.6],\n",
    "        [70,516,12],\n",
    "        [55,6121,10.3],\n",
    "        [38,671,10.9],\n",
    "        [66,944,11]\n",
    "    ]),\n",
    "    0.5\n",
    ")"
   ]
  },
  {
   "cell_type": "code",
   "execution_count": 64,
   "metadata": {},
   "outputs": [
    {
     "name": "stdout",
     "output_type": "stream",
     "text": [
      "ClinicalTrial(w=np.ndarray(shape=(6, 3)), rho=0.5)\n"
     ]
    }
   ],
   "source": [
    "print(input)"
   ]
  },
  {
   "cell_type": "markdown",
   "metadata": {},
   "source": [
    "The solution for the toy example above is\n",
    "\n",
    "+ group1 = $[1, 0, 0, 1, 0, 1]$\n",
    "+ group2 = $[0, 1, 1, 0, 1, 0]$\n",
    "\n",
    "> NOTE: As this is just an example, you'll have to replace the cell below with your solution. If you run `aqora test` with the solution below you will get the error \"Each group should have 50 patients\" because the actual trial sizes are much larger"
   ]
  },
  {
   "cell_type": "code",
   "execution_count": 65,
   "metadata": {},
   "outputs": [],
   "source": [
    "# TODO: Replace me with your solution!\n",
    "group1 = np.array([1,0,0,1,0,1])\n",
    "group2 = np.array([0,1,1,0,1,0])"
   ]
  },
  {
   "cell_type": "markdown",
   "metadata": {},
   "source": [
    "The discrepancy value for this solution to our toy problem is $\\approx 1.485$."
   ]
  },
  {
   "cell_type": "code",
   "execution_count": 66,
   "metadata": {},
   "outputs": [
    {
     "name": "stdout",
     "output_type": "stream",
     "text": [
      "1.4853505816002643\n"
     ]
    }
   ],
   "source": [
    "print(input.discrepancy(group1, group2))"
   ]
  },
  {
   "cell_type": "markdown",
   "metadata": {},
   "source": [
    "And we return the solution to **aqora** by setting the `output` variable"
   ]
  },
  {
   "cell_type": "code",
   "execution_count": 67,
   "metadata": {},
   "outputs": [],
   "source": [
    "output = (group1, group2)"
   ]
  }
 ],
 "metadata": {
  "kernelspec": {
   "display_name": ".venv",
   "language": "python",
   "name": "python3"
  },
  "language_info": {
   "codemirror_mode": {
    "name": "ipython",
    "version": 3
   },
   "file_extension": ".py",
   "mimetype": "text/x-python",
   "name": "python",
   "nbconvert_exporter": "python",
   "pygments_lexer": "ipython3",
   "version": "3.12.3"
  }
 },
 "nbformat": 4,
 "nbformat_minor": 2
}
